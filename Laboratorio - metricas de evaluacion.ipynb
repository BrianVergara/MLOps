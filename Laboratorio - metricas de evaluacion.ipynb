{
 "cells": [
  {
   "cell_type": "markdown",
   "id": "3f1c7b8f",
   "metadata": {},
   "source": [
    "# Métricas de Evaluación de Modelos\n",
    "Brian Vergara - MLOps"
   ]
  },
  {
   "cell_type": "code",
   "execution_count": 1,
   "id": "269a4a44",
   "metadata": {},
   "outputs": [],
   "source": [
    "# Importación de librerías necesarias\n",
    "import numpy as np\n",
    "import pandas as pd\n",
    "from sklearn.model_selection import train_test_split\n",
    "from sklearn.ensemble import RandomForestClassifier\n",
    "from sklearn.metrics import accuracy_score, recall_score, precision_score, f1_score, roc_auc_score, confusion_matrix, ConfusionMatrixDisplay\n",
    "import matplotlib.pyplot as plt\n",
    "import seaborn as sns\n",
    "from sklearn.datasets import load_digits\n",
    "from sklearn.preprocessing import label_binarize"
   ]
  },
  {
   "cell_type": "code",
   "execution_count": 2,
   "id": "4a272b40",
   "metadata": {},
   "outputs": [],
   "source": [
    "# Cargar el conjunto de datos \"Digits\"\n",
    "digits = load_digits()\n",
    "X = digits.data\n",
    "y = digits.target\n",
    "\n",
    "# Dividir los datos en entrenamiento y prueba\n",
    "X_train, X_test, y_train, y_test = train_test_split(X, y, test_size=0.2, random_state=42)\n",
    "\n",
    "# Entrenar el modelo\n",
    "model = RandomForestClassifier(n_estimators=100, random_state=42)\n",
    "model.fit(X_train, y_train)\n",
    "y_pred = model.predict(X_test)"
   ]
  },
  {
   "cell_type": "code",
   "execution_count": 3,
   "id": "43fbf5d2",
   "metadata": {},
   "outputs": [],
   "source": [
    "# Como hay múltiples clases, necesitamos binarizar las etiquetas para calcular el ROC AUC\n",
    "y_test_binarized = label_binarize(y_test, classes=np.arange(10))\n",
    "y_pred_binarized = label_binarize(y_pred, classes=np.arange(10))"
   ]
  },
  {
   "cell_type": "code",
   "execution_count": 4,
   "id": "5d712c25",
   "metadata": {},
   "outputs": [],
   "source": [
    "# Calcular métricas para cada clase y luego promediarlas\n",
    "accuracy = accuracy_score(y_test, y_pred)\n",
    "recall = recall_score(y_test, y_pred, average='macro')\n",
    "precision = precision_score(y_test, y_pred, average='macro')\n",
    "f1 = f1_score(y_test, y_pred, average='macro')\n",
    "roc_auc = roc_auc_score(y_test_binarized, y_pred_binarized, average='macro', multi_class='ovr')"
   ]
  },
  {
   "cell_type": "code",
   "execution_count": 5,
   "id": "2032aedb",
   "metadata": {},
   "outputs": [
    {
     "name": "stdout",
     "output_type": "stream",
     "text": [
      "Accuracy: 0.97\n",
      "Recall: 0.97\n",
      "Precision: 0.97\n",
      "F1 Score: 0.97\n",
      "ROC AUC Score: 0.98\n"
     ]
    }
   ],
   "source": [
    "print(f\"Accuracy: {accuracy:.2f}\")\n",
    "print(f\"Recall: {recall:.2f}\")\n",
    "print(f\"Precision: {precision:.2f}\")\n",
    "print(f\"F1 Score: {f1:.2f}\")\n",
    "print(f\"ROC AUC Score: {roc_auc:.2f}\")"
   ]
  },
  {
   "cell_type": "markdown",
   "id": "83b2e8a7",
   "metadata": {},
   "source": [
    "# Interpretación de resultados"
   ]
  },
  {
   "cell_type": "markdown",
   "id": "b672b777",
   "metadata": {},
   "source": [
    "Accuracy (Exactitud): El modelo clasificó correctamente el 97% de las instancias en el conjunto de prueba. Esto indica que el modelo es muy preciso en general para distinguir entre las diferentes clases de dígitos."
   ]
  },
  {
   "cell_type": "markdown",
   "id": "e4832fcf",
   "metadata": {},
   "source": [
    "Recall (Sensibilidad): De todas las instancias positivas (verdaderas) en cada clase, el modelo identificó correctamente el 97%. Esto muestra que el modelo es muy efectivo para detectar las instancias de cada clase."
   ]
  },
  {
   "cell_type": "markdown",
   "id": "d6c52ec9",
   "metadata": {},
   "source": [
    "Precision (Precisión): De todas las instancias que el modelo predijo como positivas para cada clase, el 97% fueron realmente positivas. Esto indica que el modelo tiene una alta precisión y no está haciendo muchas predicciones incorrectas para cada clase."
   ]
  },
  {
   "cell_type": "markdown",
   "id": "ccbc22eb",
   "metadata": {},
   "source": [
    "F1 Score: El F1 Score es la media armónica de la precisión y el recall. Un valor de 0.97 indica que el modelo tiene un buen equilibrio entre precisión y recall. Es un buen indicador del rendimiento general del modelo."
   ]
  },
  {
   "cell_type": "markdown",
   "id": "e8e1011e",
   "metadata": {},
   "source": [
    "ROC AUC Score: El Área Bajo la Curva de la Característica Operativa del Receptor (ROC AUC) es de 0.98. Esto significa que hay un 98% de probabilidad de que el modelo clasifique correctamente una instancia positiva al azar más alto que una instancia negativa al azar. Un valor cercano a 1 indica un excelente rendimiento del modelo en términos de discriminación entre clases."
   ]
  },
  {
   "cell_type": "markdown",
   "id": "8c8e08cb",
   "metadata": {},
   "source": [
    "# Conclusión"
   ]
  },
  {
   "cell_type": "markdown",
   "id": "e959abad",
   "metadata": {},
   "source": [
    "Los resultados de las métricas muestran que el modelo de Random Forest tiene un rendimiento excelente en el dataset de dígitos. La alta precisión, recall, F1 Score y ROC AUC Score indican que el modelo es robusto y efectivo para clasificar correctamente las instancias."
   ]
  }
 ],
 "metadata": {
  "kernelspec": {
   "display_name": "Python 3 (ipykernel)",
   "language": "python",
   "name": "python3"
  },
  "language_info": {
   "codemirror_mode": {
    "name": "ipython",
    "version": 3
   },
   "file_extension": ".py",
   "mimetype": "text/x-python",
   "name": "python",
   "nbconvert_exporter": "python",
   "pygments_lexer": "ipython3",
   "version": "3.11.4"
  }
 },
 "nbformat": 4,
 "nbformat_minor": 5
}
